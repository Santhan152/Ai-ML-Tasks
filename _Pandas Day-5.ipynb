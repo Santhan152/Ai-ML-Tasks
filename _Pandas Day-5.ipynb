{
 "cells": [
  {
   "cell_type": "code",
   "execution_count": 1,
   "id": "f3b53dc7-9584-4081-865c-21454429c3f4",
   "metadata": {},
   "outputs": [],
   "source": [
    "#import pandas\n",
    "import pandas as pd"
   ]
  },
  {
   "cell_type": "code",
   "execution_count": 3,
   "id": "ebf3fc56-889e-4c8d-b437-29e422419522",
   "metadata": {},
   "outputs": [
    {
     "name": "stdout",
     "output_type": "stream",
     "text": [
      "0    10\n",
      "1    20\n",
      "2    30\n",
      "3    40\n",
      "dtype: int64\n"
     ]
    }
   ],
   "source": [
    "#create pandas series using list\n",
    "data=[10,20,30,40]\n",
    "series=pd.Series(data)\n",
    "print(series)"
   ]
  },
  {
   "cell_type": "code",
   "execution_count": 5,
   "id": "1cd6d375-2b66-4783-bb2a-b5fa622a61bd",
   "metadata": {},
   "outputs": [
    {
     "name": "stdout",
     "output_type": "stream",
     "text": [
      "A    1\n",
      "B    2\n",
      "C    3\n",
      "D    4\n",
      "dtype: int64\n"
     ]
    }
   ],
   "source": [
    "#create pandas series using a custom index value\n",
    "data=[1,2,3,4]\n",
    "i=['A','B','C','D']\n",
    "series=pd.Series(data, index=i)\n",
    "print(series)"
   ]
  },
  {
   "cell_type": "code",
   "execution_count": 7,
   "id": "3983fddc-b89b-4ed9-a09e-58296779b58e",
   "metadata": {},
   "outputs": [
    {
     "name": "stdout",
     "output_type": "stream",
     "text": [
      "a    10\n",
      "b    20\n",
      "c    30\n",
      "d    40\n",
      "dtype: int64\n"
     ]
    }
   ],
   "source": [
    "#create pandas series using dictionary\n",
    "data={'a':10,'b':20,'c':30,'d':40}\n",
    "series=pd.Series(data)\n",
    "print(series)"
   ]
  },
  {
   "cell_type": "code",
   "execution_count": 9,
   "id": "3ae9bd27-5400-4c77-8aa5-fe97990eb57f",
   "metadata": {},
   "outputs": [
    {
     "data": {
      "text/plain": [
       "a     10\n",
       "b    100\n",
       "c     30\n",
       "d     40\n",
       "dtype: int64"
      ]
     },
     "execution_count": 9,
     "metadata": {},
     "output_type": "execute_result"
    }
   ],
   "source": [
    "series.replace(20,100)"
   ]
  },
  {
   "cell_type": "code",
   "execution_count": 11,
   "id": "e52d2534-ec66-4626-ac71-c2a7c6e1508e",
   "metadata": {},
   "outputs": [],
   "source": [
    "#create series using numpy array"
   ]
  },
  {
   "cell_type": "markdown",
   "id": "fbcef9ee-e789-46f8-b307-3ea3fcc840da",
   "metadata": {},
   "source": [
    "Pandas dataframe"
   ]
  },
  {
   "cell_type": "code",
   "execution_count": 17,
   "id": "1b8fbf0f-e4b2-4a1a-8162-a7cdd1b479f6",
   "metadata": {},
   "outputs": [],
   "source": [
    "#create pandas dataframe from dictionary of lists"
   ]
  },
  {
   "cell_type": "code",
   "execution_count": 19,
   "id": "f8208426-0956-4883-b4aa-476f310bf61f",
   "metadata": {},
   "outputs": [],
   "source": [
    "import pandas as pd"
   ]
  },
  {
   "cell_type": "code",
   "execution_count": 23,
   "id": "490fb515-5655-4b2d-b010-57720ac8f17d",
   "metadata": {},
   "outputs": [
    {
     "name": "stdout",
     "output_type": "stream",
     "text": [
      "    Name  Age Country\n",
      "0  Alice   25     Usa\n",
      "1    Bob   30   India\n",
      "2   Mary   34  Russia\n"
     ]
    }
   ],
   "source": [
    "data={'Name':['Alice','Bob','Mary'],'Age':[25,30,34],'Country':['Usa','India','Russia']}\n",
    "df=pd.DataFrame(data)\n",
    "print(df)"
   ]
  },
  {
   "cell_type": "code",
   "execution_count": 25,
   "id": "156e4ac0-9bc4-44d3-97e7-ce04ec047841",
   "metadata": {},
   "outputs": [],
   "source": [
    "#create pandas dataframe from numpy array"
   ]
  },
  {
   "cell_type": "code",
   "execution_count": 31,
   "id": "c9c1ed41-1965-4cdd-a82e-132be0ece1cb",
   "metadata": {},
   "outputs": [
    {
     "name": "stdout",
     "output_type": "stream",
     "text": [
      "[[1 2 3]\n",
      " [4 5 6]\n",
      " [7 8 9]]\n",
      "   A  B  C\n",
      "0  1  2  3\n",
      "1  4  5  6\n",
      "2  7  8  9\n"
     ]
    }
   ],
   "source": [
    "import numpy as np\n",
    "array=np.array([[1,2,3],[4,5,6],[7,8,9]])\n",
    "print(array)\n",
    "df=pd.DataFrame(array,columns=['A','B','C'])\n",
    "print(df)"
   ]
  },
  {
   "cell_type": "code",
   "execution_count": 33,
   "id": "1ad9cc1d-69db-430d-93bf-b44811c3b168",
   "metadata": {},
   "outputs": [
    {
     "name": "stdout",
     "output_type": "stream",
     "text": [
      "[[1, 'Alice', 25], [2, 'Bob', 30], [3, 'Mary', 34]]\n",
      "   ID  Name  Age\n",
      "0   1     2    3\n",
      "1   4     5    6\n",
      "2   7     8    9\n"
     ]
    }
   ],
   "source": [
    "#create a dataframe from a nested list\n",
    "data=[[1,'Alice',25],[2,'Bob',30],[3,'Mary',34]]\n",
    "print(data)\n",
    "df=pd.DataFrame(array,columns=['ID','Name','Age'])\n",
    "print(df)"
   ]
  },
  {
   "cell_type": "code",
   "execution_count": 35,
   "id": "f6d7d83c-ee17-418d-9da0-6c29b0a731cf",
   "metadata": {},
   "outputs": [
    {
     "name": "stdout",
     "output_type": "stream",
     "text": [
      "     sepal.length  sepal.width  petal.length  petal.width    variety\n",
      "0             5.1          3.5           1.4          0.2     Setosa\n",
      "1             4.9          3.0           1.4          0.2     Setosa\n",
      "2             4.7          3.2           1.3          0.2     Setosa\n",
      "3             4.6          3.1           1.5          0.2     Setosa\n",
      "4             5.0          3.6           1.4          0.2     Setosa\n",
      "..            ...          ...           ...          ...        ...\n",
      "145           6.7          3.0           5.2          2.3  Virginica\n",
      "146           6.3          2.5           5.0          1.9  Virginica\n",
      "147           6.5          3.0           5.2          2.0  Virginica\n",
      "148           6.2          3.4           5.4          2.3  Virginica\n",
      "149           5.9          3.0           5.1          1.8  Virginica\n",
      "\n",
      "[150 rows x 5 columns]\n"
     ]
    }
   ],
   "source": [
    "#import data from a csv file and create\n",
    "iris_df=pd.read_csv(\"iris.csv\")\n",
    "print(iris_df)"
   ]
  },
  {
   "cell_type": "code",
   "execution_count": null,
   "id": "88d4d233-1553-4f01-a27f-f9c07ce34221",
   "metadata": {},
   "outputs": [],
   "source": []
  }
 ],
 "metadata": {
  "kernelspec": {
   "display_name": "Python [conda env:base] *",
   "language": "python",
   "name": "conda-base-py"
  },
  "language_info": {
   "codemirror_mode": {
    "name": "ipython",
    "version": 3
   },
   "file_extension": ".py",
   "mimetype": "text/x-python",
   "name": "python",
   "nbconvert_exporter": "python",
   "pygments_lexer": "ipython3",
   "version": "3.11.4"
  }
 },
 "nbformat": 4,
 "nbformat_minor": 5
}
