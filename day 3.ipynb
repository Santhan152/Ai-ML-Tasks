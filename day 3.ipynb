{
 "cells": [
  {
   "cell_type": "code",
   "execution_count": 1,
   "id": "d2c783ef-7708-4a07-a555-f3e937031f63",
   "metadata": {},
   "outputs": [],
   "source": [
    "#conventional if-else"
   ]
  },
  {
   "cell_type": "code",
   "execution_count": 3,
   "id": "28717927-44fc-4b4e-a5de-27cc8c40e4a2",
   "metadata": {},
   "outputs": [
    {
     "name": "stdout",
     "output_type": "stream",
     "text": [
      "even\n"
     ]
    }
   ],
   "source": [
    "n=6\n",
    "if n%2==0:\n",
    "    print(\"even\")\n",
    "else:\n",
    "    print(\"odd\")"
   ]
  },
  {
   "cell_type": "code",
   "execution_count": 13,
   "id": "bb1f3459-3487-478c-a661-87f2bb7ab87c",
   "metadata": {},
   "outputs": [
    {
     "name": "stdin",
     "output_type": "stream",
     "text": [
      "Enter the integer:  -9\n"
     ]
    },
    {
     "name": "stdout",
     "output_type": "stream",
     "text": [
      "Negative\n"
     ]
    }
   ],
   "source": [
    "x=int(input(\"Enter the integer: \"))\n",
    "result =\"Possitive\" if x> 0 else \"Negative\"\n",
    "print(result)"
   ]
  },
  {
   "cell_type": "code",
   "execution_count": 11,
   "id": "e5b20902-c294-4523-afc0-0c2f16f5ced7",
   "metadata": {},
   "outputs": [
    {
     "name": "stdin",
     "output_type": "stream",
     "text": [
      "Enter the age:  6\n"
     ]
    },
    {
     "name": "stdout",
     "output_type": "stream",
     "text": [
      "Minor\n"
     ]
    }
   ],
   "source": [
    "age = int(input(\"Enter the age: \"))\n",
    "cateogory=\"Adult\" if age>=18 else \"Minor\"\n",
    "print(cateogory)"
   ]
  },
  {
   "cell_type": "code",
   "execution_count": 19,
   "id": "c064c905-c92c-4941-914e-c9fc23062fb1",
   "metadata": {},
   "outputs": [
    {
     "name": "stdin",
     "output_type": "stream",
     "text": [
      "Enter the integer:  -9\n"
     ]
    },
    {
     "name": "stdout",
     "output_type": "stream",
     "text": [
      "Negative\n"
     ]
    }
   ],
   "source": [
    "number=int(input(\"Enter the integer: \"))\n",
    "result =\"Possitive\" if number> 0 else \"Negative\" if number<0 else \"zero\"\n",
    "print(result)"
   ]
  },
  {
   "cell_type": "code",
   "execution_count": 23,
   "id": "7c3ce8a6-4d75-4336-9fca-20dc66edcbdb",
   "metadata": {},
   "outputs": [
    {
     "name": "stdin",
     "output_type": "stream",
     "text": [
      "Enter the value:  2\n"
     ]
    },
    {
     "data": {
      "text/plain": [
       "[200, 3999999999999998, 12, 16]"
      ]
     },
     "execution_count": 23,
     "metadata": {},
     "output_type": "execute_result"
    }
   ],
   "source": [
    "L=[100,1999999999999999,6,8]\n",
    "x=int(input(\"Enter the value: \"))\n",
    "[2*x for x in L]"
   ]
  },
  {
   "cell_type": "code",
   "execution_count": 25,
   "id": "93241645-b88e-445a-b4d6-79af22d0860a",
   "metadata": {},
   "outputs": [
    {
     "name": "stdin",
     "output_type": "stream",
     "text": [
      "Enter the value:  7\n"
     ]
    },
    {
     "data": {
      "text/plain": [
       "[102, 2000000000000001, 8, 10]"
      ]
     },
     "execution_count": 25,
     "metadata": {},
     "output_type": "execute_result"
    }
   ],
   "source": [
    "L=[100,1999999999999999,6,8]\n",
    "x=int(input(\"Enter the value: \"))\n",
    "[2+x for x in L]"
   ]
  },
  {
   "cell_type": "code",
   "execution_count": 27,
   "id": "30011ff8-18e3-4d7e-8c43-d0b660168aa9",
   "metadata": {},
   "outputs": [
    {
     "name": "stdin",
     "output_type": "stream",
     "text": [
      "Enter the value:  9\n"
     ]
    },
    {
     "data": {
      "text/plain": [
       "[0.02, 1.0000000000000005e-15, 0.3333333333333333, 0.25]"
      ]
     },
     "execution_count": 27,
     "metadata": {},
     "output_type": "execute_result"
    }
   ],
   "source": [
    "L=[100,1999999999999999,6,8]\n",
    "x=int(input(\"Enter the value: \"))\n",
    "[2/x for x in L]"
   ]
  },
  {
   "cell_type": "code",
   "execution_count": 29,
   "id": "ab33b683-13ec-45cf-a828-2c78c748ef60",
   "metadata": {},
   "outputs": [
    {
     "name": "stdin",
     "output_type": "stream",
     "text": [
      "Enter the value:  2\n"
     ]
    },
    {
     "data": {
      "text/plain": [
       "[2, 2, 2, 2]"
      ]
     },
     "execution_count": 29,
     "metadata": {},
     "output_type": "execute_result"
    }
   ],
   "source": [
    "L=[100,1999999999999999,6,8]\n",
    "x=int(input(\"Enter the value: \"))\n",
    "[2%x for x in L]"
   ]
  },
  {
   "cell_type": "code",
   "execution_count": 31,
   "id": "accb9a67-74c7-4cf4-955c-b64379c3c2fb",
   "metadata": {},
   "outputs": [
    {
     "data": {
      "text/plain": [
       "[1999999999999999]"
      ]
     },
     "execution_count": 31,
     "metadata": {},
     "output_type": "execute_result"
    }
   ],
   "source": [
    "[x for x in L if x%2 !=0]"
   ]
  },
  {
   "cell_type": "code",
   "execution_count": 33,
   "id": "c417a6fb-1a79-40eb-a9d6-47fe87c445e7",
   "metadata": {},
   "outputs": [
    {
     "data": {
      "text/plain": [
       "[100, 6, 8]"
      ]
     },
     "execution_count": 33,
     "metadata": {},
     "output_type": "execute_result"
    }
   ],
   "source": [
    "[x for x in L if x%2 == 0]"
   ]
  },
  {
   "cell_type": "code",
   "execution_count": 39,
   "id": "dde9c8e3-65c2-4d8c-b914-07e43ac58b5f",
   "metadata": {},
   "outputs": [],
   "source": [
    "eyu={'ram':[2,3,4,5],'john':[6,7,8,9],'prem':[10,11,12,13]}"
   ]
  },
  {
   "cell_type": "code",
   "execution_count": 41,
   "id": "4d2a527a-046e-4d74-9053-27e05f264e03",
   "metadata": {},
   "outputs": [
    {
     "data": {
      "text/plain": [
       "{'ram': 3.5, 'john': 7.5, 'prem': 11.5}"
      ]
     },
     "execution_count": 41,
     "metadata": {},
     "output_type": "execute_result"
    }
   ],
   "source": [
    "{k:sum(v)/len(v) for k,v in eyu.items()}"
   ]
  },
  {
   "cell_type": "code",
   "execution_count": 47,
   "id": "7b274e2c-ab59-42ff-9f9a-56bd7772f30b",
   "metadata": {},
   "outputs": [],
   "source": [
    "def mean_value(given_list):\n",
    "    total=sum(given_list)\n",
    "    average_value=total/len(given_list)\n",
    "    return average_value"
   ]
  },
  {
   "cell_type": "code",
   "execution_count": 49,
   "id": "661b6853-e2f9-42b5-99ac-45ce168bc848",
   "metadata": {},
   "outputs": [
    {
     "data": {
      "text/plain": [
       "43.333333333333336"
      ]
     },
     "execution_count": 49,
     "metadata": {},
     "output_type": "execute_result"
    }
   ],
   "source": [
    "#call the function\n",
    "l=[1,23,45,67,89,35]\n",
    "mean_value(l)"
   ]
  },
  {
   "cell_type": "code",
   "execution_count": null,
   "id": "a2332b1e-9a79-4260-ab4d-ebfaac75a227",
   "metadata": {},
   "outputs": [],
   "source": []
  }
 ],
 "metadata": {
  "kernelspec": {
   "display_name": "Python [conda env:base] *",
   "language": "python",
   "name": "conda-base-py"
  },
  "language_info": {
   "codemirror_mode": {
    "name": "ipython",
    "version": 3
   },
   "file_extension": ".py",
   "mimetype": "text/x-python",
   "name": "python",
   "nbconvert_exporter": "python",
   "pygments_lexer": "ipython3",
   "version": "3.11.4"
  }
 },
 "nbformat": 4,
 "nbformat_minor": 5
}
